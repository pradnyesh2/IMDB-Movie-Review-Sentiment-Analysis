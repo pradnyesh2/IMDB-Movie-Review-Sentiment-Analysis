{
 "cells": [
  {
   "cell_type": "code",
   "execution_count": 1,
   "id": "4d8c5e6b",
   "metadata": {},
   "outputs": [],
   "source": [
    "# Step 1: import libraries and load model\n",
    "import numpy as np\n",
    "import tensorflow as tf\n",
    "from tensorflow.keras.models import load_model\n",
    "from tensorflow.keras.preprocessing import sequence\n",
    "from tensorflow.keras.datasets import imdb"
   ]
  },
  {
   "cell_type": "code",
   "execution_count": 2,
   "id": "ecccdf2f",
   "metadata": {},
   "outputs": [],
   "source": [
    "# load the imdb dataset word index\n",
    "word_index = imdb.get_word_index()\n",
    "reverse_word_index={value:key for key,value in word_index.items()}"
   ]
  },
  {
   "cell_type": "code",
   "execution_count": 3,
   "id": "a8d3857b",
   "metadata": {},
   "outputs": [
    {
     "name": "stderr",
     "output_type": "stream",
     "text": [
      "d:\\Personal\\Study\\Advance Executive Program in Data Science and AI\\End to End ML Projects\\IMDB Sentiment Analysis using RNN\\venv\\Lib\\site-packages\\keras\\src\\saving\\saving_lib.py:757: UserWarning: Skipping variable loading for optimizer 'rmsprop', because it has 8 variables whereas the saved optimizer has 14 variables. \n",
      "  saveable.load_own_variables(weights_store.get(inner_path))\n"
     ]
    },
    {
     "data": {
      "text/html": [
       "<pre style=\"white-space:pre;overflow-x:auto;line-height:normal;font-family:Menlo,'DejaVu Sans Mono',consolas,'Courier New',monospace\"><span style=\"font-weight: bold\">Model: \"sequential\"</span>\n",
       "</pre>\n"
      ],
      "text/plain": [
       "\u001b[1mModel: \"sequential\"\u001b[0m\n"
      ]
     },
     "metadata": {},
     "output_type": "display_data"
    },
    {
     "data": {
      "text/html": [
       "<pre style=\"white-space:pre;overflow-x:auto;line-height:normal;font-family:Menlo,'DejaVu Sans Mono',consolas,'Courier New',monospace\">┏━━━━━━━━━━━━━━━━━━━━━━━━━━━━━━━━━┳━━━━━━━━━━━━━━━━━━━━━━━━┳━━━━━━━━━━━━━━━┓\n",
       "┃<span style=\"font-weight: bold\"> Layer (type)                    </span>┃<span style=\"font-weight: bold\"> Output Shape           </span>┃<span style=\"font-weight: bold\">       Param # </span>┃\n",
       "┡━━━━━━━━━━━━━━━━━━━━━━━━━━━━━━━━━╇━━━━━━━━━━━━━━━━━━━━━━━━╇━━━━━━━━━━━━━━━┩\n",
       "│ embedding (<span style=\"color: #0087ff; text-decoration-color: #0087ff\">Embedding</span>)           │ (<span style=\"color: #00af00; text-decoration-color: #00af00\">32</span>, <span style=\"color: #00af00; text-decoration-color: #00af00\">500</span>, <span style=\"color: #00af00; text-decoration-color: #00af00\">128</span>)         │     <span style=\"color: #00af00; text-decoration-color: #00af00\">1,280,000</span> │\n",
       "├─────────────────────────────────┼────────────────────────┼───────────────┤\n",
       "│ simple_rnn (<span style=\"color: #0087ff; text-decoration-color: #0087ff\">SimpleRNN</span>)          │ (<span style=\"color: #00af00; text-decoration-color: #00af00\">32</span>, <span style=\"color: #00af00; text-decoration-color: #00af00\">128</span>)              │        <span style=\"color: #00af00; text-decoration-color: #00af00\">32,896</span> │\n",
       "├─────────────────────────────────┼────────────────────────┼───────────────┤\n",
       "│ dense (<span style=\"color: #0087ff; text-decoration-color: #0087ff\">Dense</span>)                   │ (<span style=\"color: #00af00; text-decoration-color: #00af00\">32</span>, <span style=\"color: #00af00; text-decoration-color: #00af00\">1</span>)                │           <span style=\"color: #00af00; text-decoration-color: #00af00\">129</span> │\n",
       "└─────────────────────────────────┴────────────────────────┴───────────────┘\n",
       "</pre>\n"
      ],
      "text/plain": [
       "┏━━━━━━━━━━━━━━━━━━━━━━━━━━━━━━━━━┳━━━━━━━━━━━━━━━━━━━━━━━━┳━━━━━━━━━━━━━━━┓\n",
       "┃\u001b[1m \u001b[0m\u001b[1mLayer (type)                   \u001b[0m\u001b[1m \u001b[0m┃\u001b[1m \u001b[0m\u001b[1mOutput Shape          \u001b[0m\u001b[1m \u001b[0m┃\u001b[1m \u001b[0m\u001b[1m      Param #\u001b[0m\u001b[1m \u001b[0m┃\n",
       "┡━━━━━━━━━━━━━━━━━━━━━━━━━━━━━━━━━╇━━━━━━━━━━━━━━━━━━━━━━━━╇━━━━━━━━━━━━━━━┩\n",
       "│ embedding (\u001b[38;5;33mEmbedding\u001b[0m)           │ (\u001b[38;5;34m32\u001b[0m, \u001b[38;5;34m500\u001b[0m, \u001b[38;5;34m128\u001b[0m)         │     \u001b[38;5;34m1,280,000\u001b[0m │\n",
       "├─────────────────────────────────┼────────────────────────┼───────────────┤\n",
       "│ simple_rnn (\u001b[38;5;33mSimpleRNN\u001b[0m)          │ (\u001b[38;5;34m32\u001b[0m, \u001b[38;5;34m128\u001b[0m)              │        \u001b[38;5;34m32,896\u001b[0m │\n",
       "├─────────────────────────────────┼────────────────────────┼───────────────┤\n",
       "│ dense (\u001b[38;5;33mDense\u001b[0m)                   │ (\u001b[38;5;34m32\u001b[0m, \u001b[38;5;34m1\u001b[0m)                │           \u001b[38;5;34m129\u001b[0m │\n",
       "└─────────────────────────────────┴────────────────────────┴───────────────┘\n"
      ]
     },
     "metadata": {},
     "output_type": "display_data"
    },
    {
     "data": {
      "text/html": [
       "<pre style=\"white-space:pre;overflow-x:auto;line-height:normal;font-family:Menlo,'DejaVu Sans Mono',consolas,'Courier New',monospace\"><span style=\"font-weight: bold\"> Total params: </span><span style=\"color: #00af00; text-decoration-color: #00af00\">2,626,052</span> (10.02 MB)\n",
       "</pre>\n"
      ],
      "text/plain": [
       "\u001b[1m Total params: \u001b[0m\u001b[38;5;34m2,626,052\u001b[0m (10.02 MB)\n"
      ]
     },
     "metadata": {},
     "output_type": "display_data"
    },
    {
     "data": {
      "text/html": [
       "<pre style=\"white-space:pre;overflow-x:auto;line-height:normal;font-family:Menlo,'DejaVu Sans Mono',consolas,'Courier New',monospace\"><span style=\"font-weight: bold\"> Trainable params: </span><span style=\"color: #00af00; text-decoration-color: #00af00\">1,313,025</span> (5.01 MB)\n",
       "</pre>\n"
      ],
      "text/plain": [
       "\u001b[1m Trainable params: \u001b[0m\u001b[38;5;34m1,313,025\u001b[0m (5.01 MB)\n"
      ]
     },
     "metadata": {},
     "output_type": "display_data"
    },
    {
     "data": {
      "text/html": [
       "<pre style=\"white-space:pre;overflow-x:auto;line-height:normal;font-family:Menlo,'DejaVu Sans Mono',consolas,'Courier New',monospace\"><span style=\"font-weight: bold\"> Non-trainable params: </span><span style=\"color: #00af00; text-decoration-color: #00af00\">0</span> (0.00 B)\n",
       "</pre>\n"
      ],
      "text/plain": [
       "\u001b[1m Non-trainable params: \u001b[0m\u001b[38;5;34m0\u001b[0m (0.00 B)\n"
      ]
     },
     "metadata": {},
     "output_type": "display_data"
    },
    {
     "data": {
      "text/html": [
       "<pre style=\"white-space:pre;overflow-x:auto;line-height:normal;font-family:Menlo,'DejaVu Sans Mono',consolas,'Courier New',monospace\"><span style=\"font-weight: bold\"> Optimizer params: </span><span style=\"color: #00af00; text-decoration-color: #00af00\">1,313,027</span> (5.01 MB)\n",
       "</pre>\n"
      ],
      "text/plain": [
       "\u001b[1m Optimizer params: \u001b[0m\u001b[38;5;34m1,313,027\u001b[0m (5.01 MB)\n"
      ]
     },
     "metadata": {},
     "output_type": "display_data"
    }
   ],
   "source": [
    "# load the pre-trained model\n",
    "model=load_model('simple_rnn_imdb.keras')\n",
    "model.summary()"
   ]
  },
  {
   "cell_type": "code",
   "execution_count": 4,
   "id": "06db238f",
   "metadata": {},
   "outputs": [
    {
     "data": {
      "text/plain": [
       "[array([[-1.3791415e-01,  2.4440452e-01, -2.2742611e-01, ...,\n",
       "         -9.5846556e-02,  2.0282142e-02, -3.7244120e-01],\n",
       "        [-6.4048739e-03,  1.9366969e-04, -1.2078670e-02, ...,\n",
       "         -3.1656835e-02,  7.0702485e-03, -2.2041894e-02],\n",
       "        [-6.0362656e-02,  6.7862965e-02,  3.6117617e-02, ...,\n",
       "          2.0675924e-02, -1.7751204e-02, -1.3993368e-03],\n",
       "        ...,\n",
       "        [ 5.5561464e-02,  2.4633616e-02,  2.2699872e-02, ...,\n",
       "         -5.8287293e-02, -1.7672377e-02, -2.3089511e-02],\n",
       "        [-1.6357827e-01,  1.1354066e-02, -8.0785677e-02, ...,\n",
       "         -1.1808348e-02,  3.4515411e-02, -2.0419801e-02],\n",
       "        [ 8.1962734e-02, -1.9343968e-01,  1.6228291e-01, ...,\n",
       "         -8.5223190e-02, -9.0131208e-02,  2.1423611e-01]], dtype=float32),\n",
       " array([[ 0.02041294,  0.11657173, -0.03972523, ...,  0.09215684,\n",
       "         -0.06833432, -0.15155925],\n",
       "        [ 0.10650119, -0.05823754,  0.11831272, ...,  0.0842784 ,\n",
       "          0.12998177,  0.05298899],\n",
       "        [ 0.17790909,  0.03653023, -0.12506863, ...,  0.00351383,\n",
       "         -0.02554248,  0.16372475],\n",
       "        ...,\n",
       "        [-0.0945291 ,  0.02505523,  0.14513762, ..., -0.01900724,\n",
       "          0.05175278,  0.09403607],\n",
       "        [-0.05968923, -0.04425092, -0.04119695, ..., -0.11266658,\n",
       "          0.07087415, -0.02256493],\n",
       "        [-0.1018572 ,  0.11262875,  0.11914973, ...,  0.13591221,\n",
       "         -0.07691484,  0.06508191]], dtype=float32),\n",
       " array([[-0.0535182 ,  0.22237277,  0.10930838, ...,  0.07677828,\n",
       "         -0.01355981,  0.08725772],\n",
       "        [ 0.40153545,  0.03028871,  0.09751393, ...,  0.1937936 ,\n",
       "         -0.10457513, -0.11641517],\n",
       "        [-0.01258887,  0.17714459,  0.03216496, ...,  0.53012586,\n",
       "         -0.11888006,  0.03608538],\n",
       "        ...,\n",
       "        [-0.09175548,  0.06341249,  0.07236747, ...,  0.5328791 ,\n",
       "         -0.26480344,  0.13576706],\n",
       "        [-0.0071631 ,  0.00143537,  0.02197127, ..., -0.02533069,\n",
       "          0.00696273,  0.00795353],\n",
       "        [-0.15289284, -0.0334775 ,  0.01374137, ..., -0.0478708 ,\n",
       "          0.07046856,  0.04252212]], dtype=float32),\n",
       " array([-0.01725357, -0.02020473, -0.00960425, -0.0111531 ,  0.0061925 ,\n",
       "        -0.01491007,  0.00750589, -0.00130113,  0.00246549, -0.00719599,\n",
       "        -0.02036947,  0.02041676,  0.02258414, -0.01759977,  0.00597993,\n",
       "         0.02483021,  0.00363364, -0.01465347,  0.03324637,  0.01750546,\n",
       "        -0.01284501, -0.00966645, -0.00542137, -0.00220848, -0.00864946,\n",
       "        -0.01176461,  0.02691587, -0.01281795, -0.00616935, -0.00421169,\n",
       "         0.03881724, -0.02637182, -0.01923281, -0.01101666, -0.00164059,\n",
       "         0.03348183, -0.0218073 ,  0.00132085,  0.00188223, -0.01328705,\n",
       "         0.00406606, -0.01400477,  0.0048783 ,  0.01835797,  0.00905157,\n",
       "        -0.01575768,  0.00645415, -0.03879328, -0.03058057,  0.01193776,\n",
       "        -0.02957019, -0.0108288 ,  0.00083729, -0.0087244 ,  0.01909469,\n",
       "        -0.01028911,  0.01284164, -0.01584106,  0.03222014,  0.01296534,\n",
       "         0.02708379,  0.03313622, -0.00788556,  0.01954082,  0.03125558,\n",
       "         0.0087356 ,  0.0178278 , -0.01506803,  0.03187783, -0.02021453,\n",
       "         0.00599419, -0.01740463,  0.02311827,  0.00521036, -0.02549726,\n",
       "         0.02494007, -0.02045162,  0.01446465,  0.00055884,  0.01510162,\n",
       "        -0.01670105,  0.00511439, -0.01414259,  0.00396224, -0.00117685,\n",
       "        -0.01646558,  0.01164632,  0.01311562, -0.01903489,  0.00861951,\n",
       "        -0.00718691,  0.02741195,  0.00192901,  0.00065701, -0.01921468,\n",
       "        -0.00852169, -0.02482336, -0.01079656,  0.00924922, -0.02095826,\n",
       "         0.00158808,  0.01274182,  0.02722472, -0.0130898 ,  0.02551955,\n",
       "        -0.01274068, -0.02138906,  0.01092982, -0.01326827,  0.00916296,\n",
       "        -0.00408811, -0.00228921,  0.01657613, -0.01703965,  0.00732073,\n",
       "        -0.01287545,  0.01560196, -0.01270226, -0.01741365, -0.03142075,\n",
       "        -0.00408248, -0.03517996,  0.0004047 , -0.01250344,  0.01812953,\n",
       "        -0.03781648, -0.02553069, -0.02460687], dtype=float32),\n",
       " array([[-0.07356388],\n",
       "        [-0.17274356],\n",
       "        [-0.24610834],\n",
       "        [-0.1372267 ],\n",
       "        [-0.46625897],\n",
       "        [-0.20179677],\n",
       "        [ 0.12376245],\n",
       "        [ 0.00749885],\n",
       "        [-0.0787646 ],\n",
       "        [-0.03559054],\n",
       "        [-0.11502334],\n",
       "        [ 0.21196939],\n",
       "        [ 0.17058086],\n",
       "        [ 0.0339689 ],\n",
       "        [-0.48801857],\n",
       "        [ 0.12257756],\n",
       "        [ 0.06937482],\n",
       "        [-0.17378135],\n",
       "        [ 0.1505521 ],\n",
       "        [ 0.23932898],\n",
       "        [-0.20998202],\n",
       "        [ 0.01179566],\n",
       "        [-0.17198935],\n",
       "        [ 0.21090533],\n",
       "        [-0.10278644],\n",
       "        [-0.02313345],\n",
       "        [ 0.21684824],\n",
       "        [-0.07323127],\n",
       "        [-0.05467056],\n",
       "        [-0.19860047],\n",
       "        [-0.05918625],\n",
       "        [-0.02117959],\n",
       "        [-0.15200955],\n",
       "        [ 0.16669878],\n",
       "        [-0.09775028],\n",
       "        [ 0.06056115],\n",
       "        [-0.01367228],\n",
       "        [-0.36171645],\n",
       "        [-0.08955976],\n",
       "        [-0.14671107],\n",
       "        [-0.33837315],\n",
       "        [-0.21774033],\n",
       "        [-0.12192099],\n",
       "        [ 0.1389255 ],\n",
       "        [ 0.09909602],\n",
       "        [-0.25484285],\n",
       "        [ 0.08875801],\n",
       "        [ 0.04976565],\n",
       "        [ 0.12059358],\n",
       "        [ 0.1341661 ],\n",
       "        [-0.20166352],\n",
       "        [-0.22753257],\n",
       "        [ 0.17485937],\n",
       "        [ 0.00740692],\n",
       "        [ 0.09304347],\n",
       "        [ 0.20785762],\n",
       "        [ 0.047984  ],\n",
       "        [ 0.02577143],\n",
       "        [ 0.17394039],\n",
       "        [-0.07935844],\n",
       "        [ 0.21936059],\n",
       "        [ 0.25977018],\n",
       "        [-0.22573915],\n",
       "        [ 0.13042745],\n",
       "        [-0.17193289],\n",
       "        [-1.931779  ],\n",
       "        [ 0.04866099],\n",
       "        [-0.15862206],\n",
       "        [ 0.0992725 ],\n",
       "        [ 0.20982511],\n",
       "        [ 0.08857782],\n",
       "        [-0.13080142],\n",
       "        [-0.95358557],\n",
       "        [ 0.09393395],\n",
       "        [-0.19077231],\n",
       "        [ 0.20992841],\n",
       "        [-0.1688972 ],\n",
       "        [ 0.21766989],\n",
       "        [-0.22083212],\n",
       "        [ 0.16473743],\n",
       "        [ 0.02391599],\n",
       "        [-0.1639082 ],\n",
       "        [-0.12066322],\n",
       "        [-0.074522  ],\n",
       "        [ 0.04384237],\n",
       "        [-0.09029511],\n",
       "        [ 0.16391449],\n",
       "        [-0.17831255],\n",
       "        [-0.05538943],\n",
       "        [-0.05616483],\n",
       "        [-0.17257194],\n",
       "        [ 0.1814945 ],\n",
       "        [-0.17661977],\n",
       "        [ 0.16163062],\n",
       "        [-0.07669537],\n",
       "        [ 0.1042192 ],\n",
       "        [-0.10593094],\n",
       "        [-0.20143756],\n",
       "        [-1.0074455 ],\n",
       "        [-0.09067579],\n",
       "        [-0.02969575],\n",
       "        [ 0.02315788],\n",
       "        [ 0.15908095],\n",
       "        [-0.14582881],\n",
       "        [ 0.22482438],\n",
       "        [-0.04877919],\n",
       "        [-0.1635398 ],\n",
       "        [-0.06946161],\n",
       "        [-0.07633588],\n",
       "        [-0.23917097],\n",
       "        [-0.20750225],\n",
       "        [ 0.14228265],\n",
       "        [ 0.21553229],\n",
       "        [-0.07012711],\n",
       "        [-0.15371373],\n",
       "        [-0.12753445],\n",
       "        [ 0.20157526],\n",
       "        [-0.16866638],\n",
       "        [-0.00357095],\n",
       "        [-0.02483549],\n",
       "        [-1.2117398 ],\n",
       "        [ 0.02496717],\n",
       "        [ 0.6778231 ],\n",
       "        [-0.0920909 ],\n",
       "        [ 0.18131511],\n",
       "        [-0.26819742],\n",
       "        [-0.10615645],\n",
       "        [ 0.09254361]], dtype=float32),\n",
       " array([-1.5166185], dtype=float32)]"
      ]
     },
     "execution_count": 4,
     "metadata": {},
     "output_type": "execute_result"
    }
   ],
   "source": [
    "model.get_weights()"
   ]
  },
  {
   "cell_type": "code",
   "execution_count": 5,
   "id": "0d27bf73",
   "metadata": {},
   "outputs": [],
   "source": [
    "# Step 2: Helper function\n",
    "# Function to decode reviews\n",
    "def decode_review(encoded_review):\n",
    "    return ' '.join([reverse_word_index.get(i-3,'?') for i in encoded_review])\n",
    "\n",
    "# Function to preprocess user input\n",
    "def preprocess_text(text):\n",
    "    words = text.lower().split()\n",
    "    encoded_review = [word_index.get(word, 2) + 3 for word in words]\n",
    "    padded_review = sequence.pad_sequences([encoded_review],maxlen=500)\n",
    "    return padded_review"
   ]
  },
  {
   "cell_type": "code",
   "execution_count": 6,
   "id": "6c5f12d6",
   "metadata": {},
   "outputs": [],
   "source": [
    "## Prediction function\n",
    "\n",
    "def predict_sentiment(review):\n",
    "    preprocessed_input=preprocess_text(review)\n",
    "\n",
    "    prediction=model.predict(preprocessed_input)\n",
    "\n",
    "    sentiment = 'Positive' if prediction[0][0] > 0.5 else 'Negative'\n",
    "\n",
    "    return sentiment, prediction[0][0]"
   ]
  },
  {
   "cell_type": "code",
   "execution_count": 7,
   "id": "f62426c3",
   "metadata": {},
   "outputs": [
    {
     "name": "stdout",
     "output_type": "stream",
     "text": [
      "\u001b[1m1/1\u001b[0m \u001b[32m━━━━━━━━━━━━━━━━━━━━\u001b[0m\u001b[37m\u001b[0m \u001b[1m0s\u001b[0m 376ms/step\n",
      "Review: This movie was fantastic! The acting was great and the plot was thrilling\n",
      "Sentiment: Positive\n",
      "Prediction Score: 0.7833349704742432\n"
     ]
    }
   ],
   "source": [
    "# Step 4: User input and prediction\n",
    "# Example review for prediction\n",
    "example_review = \"This movie was fantastic! The acting was great and the plot was thrilling\"\n",
    "\n",
    "sentiment, score = predict_sentiment(example_review)\n",
    "\n",
    "print(f\"Review: {example_review}\")\n",
    "print(f\"Sentiment: {sentiment}\")\n",
    "print(f\"Prediction Score: {score}\")"
   ]
  },
  {
   "cell_type": "code",
   "execution_count": 8,
   "id": "5db04653",
   "metadata": {},
   "outputs": [
    {
     "name": "stdout",
     "output_type": "stream",
     "text": [
      "\u001b[1m1/1\u001b[0m \u001b[32m━━━━━━━━━━━━━━━━━━━━\u001b[0m\u001b[37m\u001b[0m \u001b[1m0s\u001b[0m 59ms/step\n",
      "Review: This movie wasn't that good. The acting was just ok\n",
      "Sentiment: Negative\n",
      "Prediction Score: 0.2363547682762146\n"
     ]
    }
   ],
   "source": [
    "example_review2 = \"This movie wasn't that good. The acting was just ok\"\n",
    "\n",
    "sentiment, score = predict_sentiment(example_review2)\n",
    "\n",
    "print(f\"Review: {example_review2}\")\n",
    "print(f\"Sentiment: {sentiment}\")\n",
    "print(f\"Prediction Score: {score}\")"
   ]
  },
  {
   "cell_type": "code",
   "execution_count": 9,
   "id": "4f138214",
   "metadata": {},
   "outputs": [
    {
     "name": "stdout",
     "output_type": "stream",
     "text": [
      "\u001b[1m1/1\u001b[0m \u001b[32m━━━━━━━━━━━━━━━━━━━━\u001b[0m\u001b[37m\u001b[0m \u001b[1m0s\u001b[0m 47ms/step\n",
      "Review: this film was just brilliant casting location scenery story direction everyone's really suited the part they played and you could just imagine being there robert ? is an amazing actor and now the same being director ? father came from the same scottish island as myself so i loved the fact there was a real connection with this film the witty remarks throughout the film were great it was just brilliant so much that i bought the film as soon as it was released for ? and would recommend it to everyone to watch and the fly fishing was amazing really cried at the end it was so sad and you know what they say if you cry at a film it must have been good and this definitely was also ? to the two little boy's that played the ? of norman and paul they were just brilliant children are often left out of the ? list i think because the stars that play them all grown up are such a big profile for the whole film but these children are amazing and should be praised for what they have done don't you think the whole story was so lovely because it was true and was someone's life after all that was shared with us all\n",
      "Sentiment: Positive\n",
      "Prediction Score: 0.9910783171653748\n"
     ]
    }
   ],
   "source": [
    "example_review3 = \"this film was just brilliant casting location scenery story direction everyone's really suited the part they played and you could just imagine being there robert ? is an amazing actor and now the same being director ? father came from the same scottish island as myself so i loved the fact there was a real connection with this film the witty remarks throughout the film were great it was just brilliant so much that i bought the film as soon as it was released for ? and would recommend it to everyone to watch and the fly fishing was amazing really cried at the end it was so sad and you know what they say if you cry at a film it must have been good and this definitely was also ? to the two little boy's that played the ? of norman and paul they were just brilliant children are often left out of the ? list i think because the stars that play them all grown up are such a big profile for the whole film but these children are amazing and should be praised for what they have done don't you think the whole story was so lovely because it was true and was someone's life after all that was shared with us all\"\n",
    "\n",
    "sentiment, score = predict_sentiment(example_review3)\n",
    "\n",
    "print(f\"Review: {example_review3}\")\n",
    "print(f\"Sentiment: {sentiment}\")\n",
    "print(f\"Prediction Score: {score}\")"
   ]
  },
  {
   "cell_type": "code",
   "execution_count": null,
   "id": "ba6d108d",
   "metadata": {},
   "outputs": [],
   "source": []
  }
 ],
 "metadata": {
  "kernelspec": {
   "display_name": "Python 3",
   "language": "python",
   "name": "python3"
  },
  "language_info": {
   "codemirror_mode": {
    "name": "ipython",
    "version": 3
   },
   "file_extension": ".py",
   "mimetype": "text/x-python",
   "name": "python",
   "nbconvert_exporter": "python",
   "pygments_lexer": "ipython3",
   "version": "3.12.0"
  }
 },
 "nbformat": 4,
 "nbformat_minor": 5
}
